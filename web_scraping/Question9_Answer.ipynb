{
 "cells": [
  {
   "cell_type": "markdown",
   "id": "f79e2a70",
   "metadata": {},
   "source": [
    "9) Write a python program to scrape mentioned details from dineout.co.in :\n",
    "\n",
    "i) Restaurant name\n",
    "\n",
    "ii) Cuisine\n",
    "\n",
    "iii) Location \n",
    "\n",
    "iv) Ratings\n",
    "\n",
    "v) Image URL"
   ]
  },
  {
   "cell_type": "code",
   "execution_count": 1,
   "id": "a48589f3",
   "metadata": {},
   "outputs": [],
   "source": [
    "from bs4 import BeautifulSoup\n",
    "import re\n",
    "import requests\n",
    "import pandas as pd"
   ]
  },
  {
   "cell_type": "code",
   "execution_count": 2,
   "id": "4862c6a6",
   "metadata": {},
   "outputs": [],
   "source": [
    "req=requests.get('https://www.dineout.co.in/delhi-restaurants/buffet-special')\n",
    "soup=BeautifulSoup(req.text,\"html.parser\")"
   ]
  },
  {
   "cell_type": "code",
   "execution_count": 5,
   "id": "febc2151",
   "metadata": {},
   "outputs": [],
   "source": [
    "result=soup.find_all('div',attrs={'class':'restnt-card restaurant'})\n",
    "#result"
   ]
  },
  {
   "cell_type": "code",
   "execution_count": 6,
   "id": "3f7d199f",
   "metadata": {},
   "outputs": [
    {
     "data": {
      "text/plain": [
       "<div class=\"restnt-card restaurant\"><div class=\"restnt-main-wrap clearfix\"><div class=\"img-wrap\"><div analytics-action=\"RestaurantImageClick\" analytics-label=\"86792_Castle Barbeque\" class=\"img cursor\" data-link=\"/delhi/castle-barbeque-connaught-place-central-delhi-86792\" data-w-onclick=\"cardClickHandler|w1-restarant\"><img alt=\"Castle Barbeque\" class=\"lazy-load-img no-img\" data-gatype=\"RestaurantImageClick\" data-src=\"https://im1.dineout.co.in/images/uploads/restaurant/sharpen/8/k/b/p86792-16062953735fbe1f4d3fb7e.jpg?tr=tr:n-medium\" data-url=\"/delhi/castle-barbeque-connaught-place-central-delhi-86792\" data-w-onclick=\"cardClickHandler\"/></div><div class=\"restnt-rating rating-4\">4.1</div></div><div class=\"restnt-detail-wrap\"><div analytics-action=\"RestaurantCardClick\" analytics-label=\"86792_Castle Barbeque\" class=\"restaurant-info-section restnt-detail\" data-link=\"/delhi/castle-barbeque-connaught-place-central-delhi-86792\" data-w-onclick=\"cardClickHandler|w1-restarant\"><div class=\"restnt-rating-widget pull-right text-right\"><div class=\"restnt-rating rating-4 hide\">4.3</div><div class=\"rating-txt hide\">232 votes</div></div><div class=\"restnt-info cursor\" data-gatype=\"RestaurantNameClick\"><a analytics-action=\"RestaurantCardClick\" analytics-label=\"86792_Castle Barbeque\" class=\"restnt-name ellipsis\" data-w-onclick=\"sendAnalyticsCommon|w1-restarant\" href=\"/delhi/castle-barbeque-connaught-place-central-delhi-86792\">Castle Barbeque</a><div class=\"restnt-loc ellipsis\" data-w-onclick=\"stopClickPropagation|w1-restarant\"><a data-name=\"Connaught Place\" data-type=\"LocalityClick\" href=\"/delhi-restaurants/central-delhi/connaught-place\">Connaught Place</a>, <a data-name=\"Central Delhi\" data-type=\"AreaClick\" href=\"/delhi-restaurants/central-delhi\">Central Delhi</a></div></div><div class=\"detail-info\"><ul><li><span class=\"double-line-ellipsis\"><span>₹ 2,000 for 2 (approx)</span><span> | </span><a data-w-onclick=\"stopClickPropagation|w1-restarant\" href=\"/delhi-restaurants/chinese-cuisine\">Chinese</a><span>, </span><a data-w-onclick=\"stopClickPropagation|w1-restarant\" href=\"/delhi-restaurants/north-indian-cuisine\">North Indian</a></span></li><li class=\"ellipsis\"></li></ul></div><div class=\"add-new-section\" style=\"white-space: nowrap; overflow-x: auto;\"><a analytics-action=\"RestTagClick\" analytics-label=\"Dineout Pay\" class=\"btn pay cursor\" data-link=\"/dineout-pay/instant-discount/how-it-works\" data-w-onclick=\"sendAnalyticsCommon|w1-restarant\" href=\"/dineout-pay/instant-discount/how-it-works\" rel=\"noopener\" style=\"color:#F67373;background:#FFF4F4\" target=\"_blank\">Dineout Pay<img class=\"lazy-load-img\" data-src=\"https://im1.dineout.co.in/images/uploads/misc/2019/Jan/17/information.png\"/></a></div></div></div></div></div>"
      ]
     },
     "execution_count": 6,
     "metadata": {},
     "output_type": "execute_result"
    }
   ],
   "source": [
    "result[0]"
   ]
  },
  {
   "cell_type": "code",
   "execution_count": 44,
   "id": "6766683a",
   "metadata": {},
   "outputs": [
    {
     "name": "stdout",
     "output_type": "stream",
     "text": [
      "4.3\n",
      "https://im1.dineout.co.in/images/uploads/restaurant/sharpen/8/k/b/p86792-16062953735fbe1f4d3fb7e.jpg?tr=tr:n-medium\n",
      "Castle Barbeque\n",
      "Chinese,North Indian\n",
      "Connaught Place,Central Delhi\n"
     ]
    }
   ],
   "source": [
    "print(result[0].find('div',class_='restnt-rating rating-4 hide').text)\n",
    "print(result[0].find('img')['data-src'])\n",
    "print(result[0].find('a').text)\n",
    "#print(result[0].find('span').find_all('a')[0].text)\n",
    "\n",
    "foods=[]\n",
    "for i in result[0].find('span').find_all('a'):\n",
    "    foods.append(i.text)\n",
    "    \n",
    "print(','.join(foods))\n",
    "\n",
    "loc_info=[]\n",
    "for j in result[0].find('div',class_='restnt-loc ellipsis').find_all('a'):\n",
    "    loc_info.append(j.text)\n",
    "    \n",
    "print(','.join(loc_info))\n"
   ]
  },
  {
   "cell_type": "code",
   "execution_count": 45,
   "id": "26ca8f74",
   "metadata": {},
   "outputs": [
    {
     "data": {
      "text/plain": [
       "[{'Restaurant name': 'Castle Barbeque',\n",
       "  'Cuisine': 'Chinese,North Indian',\n",
       "  'Location': 'Connaught Place,Central Delhi',\n",
       "  'Ratings': '4.3',\n",
       "  'Image URL': 'https://im1.dineout.co.in/images/uploads/restaurant/sharpen/8/k/b/p86792-16062953735fbe1f4d3fb7e.jpg?tr=tr:n-medium'},\n",
       " {'Restaurant name': 'Jungle Jamboree',\n",
       "  'Cuisine': 'North Indian,Asian,Italian',\n",
       "  'Location': '3CS Mall,,Lajpat Nagar - 3,South Delhi',\n",
       "  'Ratings': '4.3',\n",
       "  'Image URL': 'https://im1.dineout.co.in/images/uploads/restaurant/sharpen/5/p/m/p59633-166088382462ff137009010.jpg?tr=tr:n-medium'},\n",
       " {'Restaurant name': 'Castle Barbeque',\n",
       "  'Cuisine': 'Chinese,North Indian',\n",
       "  'Location': 'Pacific Mall,,Tagore Garden,West Delhi',\n",
       "  'Ratings': '4.3',\n",
       "  'Image URL': 'https://im1.dineout.co.in/images/uploads/restaurant/sharpen/3/j/o/p38113-15959192065f1fcb666130c.jpg?tr=tr:n-medium'},\n",
       " {'Restaurant name': 'Cafe Knosh',\n",
       "  'Cuisine': 'Italian,Continental',\n",
       "  'Location': 'The Leela Ambience Convention Hotel,,Shahdara,East Delhi',\n",
       "  'Ratings': '4.3',\n",
       "  'Image URL': 'https://im1.dineout.co.in/images/uploads/restaurant/sharpen/4/p/m/p406-15438184745c04ccea491bc.jpg?tr=tr:n-medium'},\n",
       " {'Restaurant name': 'The Barbeque Company',\n",
       "  'Cuisine': 'North Indian,Chinese',\n",
       "  'Location': 'Gardens Galleria,,Sector 38A,Noida',\n",
       "  'Ratings': '4.3',\n",
       "  'Image URL': 'https://im1.dineout.co.in/images/uploads/restaurant/sharpen/7/p/k/p79307-16051787755fad1597f2bf9.jpg?tr=tr:n-medium'},\n",
       " {'Restaurant name': 'India Grill',\n",
       "  'Cuisine': 'North Indian,Italian',\n",
       "  'Location': 'Hilton Garden Inn,,Saket,South Delhi',\n",
       "  'Ratings': '4.3',\n",
       "  'Image URL': 'https://im1.dineout.co.in/images/uploads/restaurant/sharpen/2/v/t/p2687-1482477169585cce712b90f.jpg?tr=tr:n-medium'},\n",
       " {'Restaurant name': 'Delhi Barbeque',\n",
       "  'Cuisine': 'North Indian',\n",
       "  'Location': 'Taurus Sarovar Portico,,Mahipalpur,South Delhi',\n",
       "  'Ratings': '4.3',\n",
       "  'Image URL': 'https://im1.dineout.co.in/images/uploads/restaurant/sharpen/5/v/f/p52501-16006856545f68865616659.jpg?tr=tr:n-medium'},\n",
       " {'Restaurant name': 'The Monarch - Bar Be Que Village',\n",
       "  'Cuisine': 'North Indian',\n",
       "  'Location': 'Indirapuram Habitat Centre,,Indirapuram,Ghaziabad',\n",
       "  'Ratings': '4.3',\n",
       "  'Image URL': 'https://im1.dineout.co.in/images/uploads/restaurant/sharpen/3/n/o/p34822-15599107305cfa594a13c24.jpg?tr=tr:n-medium'},\n",
       " {'Restaurant name': 'Indian Grill Room',\n",
       "  'Cuisine': 'North Indian,Mughlai',\n",
       "  'Location': 'Suncity Business Tower,,Golf Course Road,Gurgaon',\n",
       "  'Ratings': '4.3',\n",
       "  'Image URL': 'https://im1.dineout.co.in/images/uploads/restaurant/sharpen/5/y/f/p549-165000147262590640c0afc.jpg?tr=tr:n-medium'}]"
      ]
     },
     "execution_count": 45,
     "metadata": {},
     "output_type": "execute_result"
    }
   ],
   "source": [
    "restaurant_info=[]\n",
    "\n",
    "for r in range(len(result)):\n",
    "    res_name=result[r].find('a').text.strip()\n",
    "    foods=[]\n",
    "    for i in result[r].find('span').find_all('a'):\n",
    "        foods.append(i.text)\n",
    "    cuisine=','.join(foods)\n",
    "    loc_info=[]\n",
    "    for j in result[r].find('div',class_='restnt-loc ellipsis').find_all('a'):\n",
    "        loc_info.append(j.text)\n",
    "    location=','.join(loc_info)\n",
    "    rating=result[r].find('div',class_='restnt-rating rating-4 hide').text\n",
    "    image_url=result[r].find('img')['data-src']\n",
    "    restaurant={'Restaurant name':res_name,'Cuisine':cuisine,'Location':location,'Ratings':rating,'Image URL':image_url}\n",
    "    restaurant_info.append(restaurant)\n",
    "    \n",
    "restaurant_info"
   ]
  },
  {
   "cell_type": "code",
   "execution_count": 46,
   "id": "bb444b2c",
   "metadata": {},
   "outputs": [
    {
     "data": {
      "text/html": [
       "<div>\n",
       "<style scoped>\n",
       "    .dataframe tbody tr th:only-of-type {\n",
       "        vertical-align: middle;\n",
       "    }\n",
       "\n",
       "    .dataframe tbody tr th {\n",
       "        vertical-align: top;\n",
       "    }\n",
       "\n",
       "    .dataframe thead th {\n",
       "        text-align: right;\n",
       "    }\n",
       "</style>\n",
       "<table border=\"1\" class=\"dataframe\">\n",
       "  <thead>\n",
       "    <tr style=\"text-align: right;\">\n",
       "      <th></th>\n",
       "      <th>Restaurant name</th>\n",
       "      <th>Cuisine</th>\n",
       "      <th>Location</th>\n",
       "      <th>Ratings</th>\n",
       "      <th>Image URL</th>\n",
       "    </tr>\n",
       "  </thead>\n",
       "  <tbody>\n",
       "    <tr>\n",
       "      <th>0</th>\n",
       "      <td>Castle Barbeque</td>\n",
       "      <td>Chinese,North Indian</td>\n",
       "      <td>Connaught Place,Central Delhi</td>\n",
       "      <td>4.3</td>\n",
       "      <td>https://im1.dineout.co.in/images/uploads/resta...</td>\n",
       "    </tr>\n",
       "    <tr>\n",
       "      <th>1</th>\n",
       "      <td>Jungle Jamboree</td>\n",
       "      <td>North Indian,Asian,Italian</td>\n",
       "      <td>3CS Mall,,Lajpat Nagar - 3,South Delhi</td>\n",
       "      <td>4.3</td>\n",
       "      <td>https://im1.dineout.co.in/images/uploads/resta...</td>\n",
       "    </tr>\n",
       "    <tr>\n",
       "      <th>2</th>\n",
       "      <td>Castle Barbeque</td>\n",
       "      <td>Chinese,North Indian</td>\n",
       "      <td>Pacific Mall,,Tagore Garden,West Delhi</td>\n",
       "      <td>4.3</td>\n",
       "      <td>https://im1.dineout.co.in/images/uploads/resta...</td>\n",
       "    </tr>\n",
       "    <tr>\n",
       "      <th>3</th>\n",
       "      <td>Cafe Knosh</td>\n",
       "      <td>Italian,Continental</td>\n",
       "      <td>The Leela Ambience Convention Hotel,,Shahdara,...</td>\n",
       "      <td>4.3</td>\n",
       "      <td>https://im1.dineout.co.in/images/uploads/resta...</td>\n",
       "    </tr>\n",
       "    <tr>\n",
       "      <th>4</th>\n",
       "      <td>The Barbeque Company</td>\n",
       "      <td>North Indian,Chinese</td>\n",
       "      <td>Gardens Galleria,,Sector 38A,Noida</td>\n",
       "      <td>4.3</td>\n",
       "      <td>https://im1.dineout.co.in/images/uploads/resta...</td>\n",
       "    </tr>\n",
       "    <tr>\n",
       "      <th>5</th>\n",
       "      <td>India Grill</td>\n",
       "      <td>North Indian,Italian</td>\n",
       "      <td>Hilton Garden Inn,,Saket,South Delhi</td>\n",
       "      <td>4.3</td>\n",
       "      <td>https://im1.dineout.co.in/images/uploads/resta...</td>\n",
       "    </tr>\n",
       "    <tr>\n",
       "      <th>6</th>\n",
       "      <td>Delhi Barbeque</td>\n",
       "      <td>North Indian</td>\n",
       "      <td>Taurus Sarovar Portico,,Mahipalpur,South Delhi</td>\n",
       "      <td>4.3</td>\n",
       "      <td>https://im1.dineout.co.in/images/uploads/resta...</td>\n",
       "    </tr>\n",
       "    <tr>\n",
       "      <th>7</th>\n",
       "      <td>The Monarch - Bar Be Que Village</td>\n",
       "      <td>North Indian</td>\n",
       "      <td>Indirapuram Habitat Centre,,Indirapuram,Ghaziabad</td>\n",
       "      <td>4.3</td>\n",
       "      <td>https://im1.dineout.co.in/images/uploads/resta...</td>\n",
       "    </tr>\n",
       "    <tr>\n",
       "      <th>8</th>\n",
       "      <td>Indian Grill Room</td>\n",
       "      <td>North Indian,Mughlai</td>\n",
       "      <td>Suncity Business Tower,,Golf Course Road,Gurgaon</td>\n",
       "      <td>4.3</td>\n",
       "      <td>https://im1.dineout.co.in/images/uploads/resta...</td>\n",
       "    </tr>\n",
       "  </tbody>\n",
       "</table>\n",
       "</div>"
      ],
      "text/plain": [
       "                    Restaurant name                     Cuisine  \\\n",
       "0                   Castle Barbeque        Chinese,North Indian   \n",
       "1                   Jungle Jamboree  North Indian,Asian,Italian   \n",
       "2                   Castle Barbeque        Chinese,North Indian   \n",
       "3                        Cafe Knosh         Italian,Continental   \n",
       "4              The Barbeque Company        North Indian,Chinese   \n",
       "5                       India Grill        North Indian,Italian   \n",
       "6                    Delhi Barbeque                North Indian   \n",
       "7  The Monarch - Bar Be Que Village                North Indian   \n",
       "8                 Indian Grill Room        North Indian,Mughlai   \n",
       "\n",
       "                                            Location Ratings  \\\n",
       "0                      Connaught Place,Central Delhi     4.3   \n",
       "1             3CS Mall,,Lajpat Nagar - 3,South Delhi     4.3   \n",
       "2             Pacific Mall,,Tagore Garden,West Delhi     4.3   \n",
       "3  The Leela Ambience Convention Hotel,,Shahdara,...     4.3   \n",
       "4                 Gardens Galleria,,Sector 38A,Noida     4.3   \n",
       "5               Hilton Garden Inn,,Saket,South Delhi     4.3   \n",
       "6     Taurus Sarovar Portico,,Mahipalpur,South Delhi     4.3   \n",
       "7  Indirapuram Habitat Centre,,Indirapuram,Ghaziabad     4.3   \n",
       "8   Suncity Business Tower,,Golf Course Road,Gurgaon     4.3   \n",
       "\n",
       "                                           Image URL  \n",
       "0  https://im1.dineout.co.in/images/uploads/resta...  \n",
       "1  https://im1.dineout.co.in/images/uploads/resta...  \n",
       "2  https://im1.dineout.co.in/images/uploads/resta...  \n",
       "3  https://im1.dineout.co.in/images/uploads/resta...  \n",
       "4  https://im1.dineout.co.in/images/uploads/resta...  \n",
       "5  https://im1.dineout.co.in/images/uploads/resta...  \n",
       "6  https://im1.dineout.co.in/images/uploads/resta...  \n",
       "7  https://im1.dineout.co.in/images/uploads/resta...  \n",
       "8  https://im1.dineout.co.in/images/uploads/resta...  "
      ]
     },
     "execution_count": 46,
     "metadata": {},
     "output_type": "execute_result"
    }
   ],
   "source": [
    "df=pd.DataFrame(restaurant_info)\n",
    "df"
   ]
  }
 ],
 "metadata": {
  "kernelspec": {
   "display_name": "Python 3 (ipykernel)",
   "language": "python",
   "name": "python3"
  },
  "language_info": {
   "codemirror_mode": {
    "name": "ipython",
    "version": 3
   },
   "file_extension": ".py",
   "mimetype": "text/x-python",
   "name": "python",
   "nbconvert_exporter": "python",
   "pygments_lexer": "ipython3",
   "version": "3.9.7"
  }
 },
 "nbformat": 4,
 "nbformat_minor": 5
}
