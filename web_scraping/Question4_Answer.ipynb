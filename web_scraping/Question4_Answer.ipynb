{
 "cells": [
  {
   "cell_type": "markdown",
   "id": "e744a04a",
   "metadata": {},
   "source": [
    "4) Write s python program to display list of respected former presidents of India(i.e. Name , Term of office) \n",
    "from https://presidentofindia.nic.in/former-presidents.htm"
   ]
  },
  {
   "cell_type": "code",
   "execution_count": 3,
   "id": "6167ebda",
   "metadata": {},
   "outputs": [],
   "source": [
    "#4) Write s python program to display list of respected former presidents of India(i.e. Name , Term of office) \n",
    "#from https://presidentofindia.nic.in/former-presidents.htm\n",
    "    \n",
    "from bs4 import BeautifulSoup\n",
    "import requests\n",
    "import re\n",
    "import pandas as pd"
   ]
  },
  {
   "cell_type": "code",
   "execution_count": 4,
   "id": "1c415f07",
   "metadata": {},
   "outputs": [],
   "source": [
    "res=requests.get('https://presidentofindia.nic.in/former-presidents.htm')\n",
    "soup=BeautifulSoup(res.text,\"html.parser\")"
   ]
  },
  {
   "cell_type": "code",
   "execution_count": 5,
   "id": "1e47472c",
   "metadata": {},
   "outputs": [
    {
     "data": {
      "text/plain": [
       "[<div class=\"presidentListing\">\n",
       " <h3>Shri Ram Nath Kovind (birth - 1945)</h3>\n",
       " <p><span class=\"terms\">Term of Office:</span> 25 July, 2017 to 25 July, 2022 </p>\n",
       " <p><a href=\"https://ramnathkovind.nic.in\" target=\"_blank\">https://ramnathkovind.nic.in</a></p>\n",
       " </div>,\n",
       " <div class=\"presidentListing\">\n",
       " <h3>Shri Pranab Mukherjee (1935-2020)</h3>\n",
       " <p><span class=\"terms\">Term of Office:</span> 25 July, 2012 to 25 July, 2017 </p>\n",
       " <p><a href=\"http://pranabmukherjee.nic.in\" target=\"_blank\">http://pranabmukherjee.nic.in</a></p>\n",
       " </div>,\n",
       " <div class=\"presidentListing\">\n",
       " <h3>Smt Pratibha Devisingh Patil (birth - 1934)</h3>\n",
       " <p><span class=\"terms\">Term of Office:</span> 25 July, 2007 to 25 July, 2012 </p>\n",
       " <p><a href=\"http://pratibhapatil.nic.in\" target=\"_blank\">http://pratibhapatil.nic.in</a></p>\n",
       " </div>,\n",
       " <div class=\"presidentListing\">\n",
       " <h3>DR. A.P.J. Abdul Kalam (1931-2015)</h3>\n",
       " <p><span class=\"terms\">Term of Office:</span> 25 July, 2002 to 25 July, 2007 </p>\n",
       " <p><a href=\"http://abdulkalam.nic.in\" target=\"_blank\">http://abdulkalam.nic.in</a></p>\n",
       " </div>,\n",
       " <div class=\"presidentListing\">\n",
       " <h3>Shri K. R. Narayanan (1920 - 2005)</h3>\n",
       " <p><span class=\"terms\">Term of Office:</span> 25 July, 1997 to 25 July, 2002 </p>\n",
       " </div>,\n",
       " <div class=\"presidentListing\">\n",
       " <h3>Dr Shankar Dayal Sharma (1918-1999)</h3>\n",
       " <p><span class=\"terms\">Term of Office:</span> 25 July, 1992 to 25 July, 1997 </p>\n",
       " </div>,\n",
       " <div class=\"presidentListing\">\n",
       " <h3>Shri R Venkataraman (1910-2009)</h3>\n",
       " <p><span class=\"terms\">Term of Office:</span> 25 July, 1987 to 25 July, 1992 </p>\n",
       " </div>,\n",
       " <div class=\"presidentListing\">\n",
       " <h3>Giani Zail Singh (1916-1994)</h3>\n",
       " <p><span class=\"terms\">Term of Office:</span> 25 July, 1982 to 25 July, 1987 </p>\n",
       " </div>,\n",
       " <div class=\"presidentListing\">\n",
       " <h3>Shri Neelam Sanjiva Reddy (1913-1996)</h3>\n",
       " <p><span class=\"terms\">Term of Office:</span> 25 July, 1977 to 25 July, 1982 </p>\n",
       " </div>,\n",
       " <div class=\"presidentListing\">\n",
       " <h3>Dr. Fakhruddin Ali Ahmed (1905-1977)</h3>\n",
       " <p><span class=\"terms\">Term of Office:</span> 24 August, 1974 to 11 February, 1977</p>\n",
       " </div>,\n",
       " <div class=\"presidentListing\">\n",
       " <h3>Shri Varahagiri Venkata Giri (1894-1980)</h3>\n",
       " <p><span class=\"terms\">Term of Office:</span> 3 May, 1969 to 20 July, 1969 and 24 August, 1969 to 24 August, 1974</p>\n",
       " </div>,\n",
       " <div class=\"presidentListing\">\n",
       " <h3>Dr. Zakir Husain (1897-1969)</h3>\n",
       " <p><span class=\"terms\">Term of Office:</span> 13 May, 1967 to 3 May, 1969</p>\n",
       " </div>,\n",
       " <div class=\"presidentListing\">\n",
       " <h3>Dr. Sarvepalli Radhakrishnan (1888-1975)</h3>\n",
       " <p><span class=\"terms\">Term of Office:</span> 13 May, 1962 to 13 May, 1967</p>\n",
       " </div>,\n",
       " <div class=\"presidentListing\">\n",
       " <h3>Dr. Rajendra Prasad (1884-1963) </h3>\n",
       " <p><span class=\"terms\">Term of Office:</span> 26 January, 1950 to 13 May, 1962</p>\n",
       " </div>]"
      ]
     },
     "execution_count": 5,
     "metadata": {},
     "output_type": "execute_result"
    }
   ],
   "source": [
    "results = soup.find_all('div', attrs={'class':'presidentListing'})\n",
    "results"
   ]
  },
  {
   "cell_type": "code",
   "execution_count": 17,
   "id": "c6735671",
   "metadata": {},
   "outputs": [
    {
     "data": {
      "text/plain": [
       "<div class=\"presidentListing\">\n",
       "<h3>Shri Ram Nath Kovind (birth - 1945)</h3>\n",
       "<p><span class=\"terms\">Term of Office:</span> 25 July, 2017 to 25 July, 2022 </p>\n",
       "<p><a href=\"https://ramnathkovind.nic.in\" target=\"_blank\">https://ramnathkovind.nic.in</a></p>\n",
       "</div>"
      ]
     },
     "execution_count": 17,
     "metadata": {},
     "output_type": "execute_result"
    }
   ],
   "source": [
    "results[0]"
   ]
  },
  {
   "cell_type": "code",
   "execution_count": 43,
   "id": "81077d08",
   "metadata": {},
   "outputs": [
    {
     "data": {
      "text/plain": [
       "'Shri Ram Nath Kovind (birth - 1945'"
      ]
     },
     "execution_count": 43,
     "metadata": {},
     "output_type": "execute_result"
    }
   ],
   "source": [
    "results[0].find('h3').text.strip(\"()\")\n"
   ]
  },
  {
   "cell_type": "code",
   "execution_count": 47,
   "id": "7a17fa51",
   "metadata": {},
   "outputs": [
    {
     "data": {
      "text/plain": [
       "' 25 July, 2017 to 25 July, 2022 '"
      ]
     },
     "execution_count": 47,
     "metadata": {},
     "output_type": "execute_result"
    }
   ],
   "source": [
    "results[0].find('p').text.split(':',1)[1]"
   ]
  },
  {
   "cell_type": "code",
   "execution_count": 49,
   "id": "23ea3ccf",
   "metadata": {},
   "outputs": [
    {
     "data": {
      "text/plain": [
       "[{'Name': 'Shri Ram Nath Kovind',\n",
       "  'Term of office': '25 July, 2017 to 25 July, 2022'},\n",
       " {'Name': 'Shri Pranab Mukherjee',\n",
       "  'Term of office': '25 July, 2012 to 25 July, 2017'},\n",
       " {'Name': 'Smt Pratibha Devisingh Patil',\n",
       "  'Term of office': '25 July, 2007 to 25 July, 2012'},\n",
       " {'Name': 'DR. A.P.J. Abdul Kalam',\n",
       "  'Term of office': '25 July, 2002 to 25 July, 2007'},\n",
       " {'Name': 'Shri K. R. Narayanan',\n",
       "  'Term of office': '25 July, 1997 to 25 July, 2002'},\n",
       " {'Name': 'Dr Shankar Dayal Sharma',\n",
       "  'Term of office': '25 July, 1992 to 25 July, 1997'},\n",
       " {'Name': 'Shri R Venkataraman',\n",
       "  'Term of office': '25 July, 1987 to 25 July, 1992'},\n",
       " {'Name': 'Giani Zail Singh',\n",
       "  'Term of office': '25 July, 1982 to 25 July, 1987'},\n",
       " {'Name': 'Shri Neelam Sanjiva Reddy',\n",
       "  'Term of office': '25 July, 1977 to 25 July, 1982'},\n",
       " {'Name': 'Dr. Fakhruddin Ali Ahmed',\n",
       "  'Term of office': '24 August, 1974 to 11 February, 1977'},\n",
       " {'Name': 'Shri Varahagiri Venkata Giri',\n",
       "  'Term of office': '3 May, 1969 to 20 July, 1969 and 24 August, 1969 to 24 August, 1974'},\n",
       " {'Name': 'Dr. Zakir Husain', 'Term of office': '13 May, 1967 to 3 May, 1969'},\n",
       " {'Name': 'Dr. Sarvepalli Radhakrishnan',\n",
       "  'Term of office': '13 May, 1962 to 13 May, 1967'},\n",
       " {'Name': 'Dr. Rajendra Prasad',\n",
       "  'Term of office': '26 January, 1950 to 13 May, 1962'}]"
      ]
     },
     "execution_count": 49,
     "metadata": {},
     "output_type": "execute_result"
    }
   ],
   "source": [
    "presidents_info=[]\n",
    "\n",
    "\n",
    "for r in range(len(results)):\n",
    "    pname=results[r].find('h3').text.split('(',1)[0].strip()\n",
    "    term=results[r].find('p').text.split(':',1)[1].strip()\n",
    "    president_info ={\"Name\":pname,\"Term of office\":term}\n",
    "    presidents_info.append(president_info)\n",
    "    \n",
    "presidents_info"
   ]
  },
  {
   "cell_type": "code",
   "execution_count": 50,
   "id": "fd7b3b60",
   "metadata": {},
   "outputs": [
    {
     "data": {
      "text/html": [
       "<div>\n",
       "<style scoped>\n",
       "    .dataframe tbody tr th:only-of-type {\n",
       "        vertical-align: middle;\n",
       "    }\n",
       "\n",
       "    .dataframe tbody tr th {\n",
       "        vertical-align: top;\n",
       "    }\n",
       "\n",
       "    .dataframe thead th {\n",
       "        text-align: right;\n",
       "    }\n",
       "</style>\n",
       "<table border=\"1\" class=\"dataframe\">\n",
       "  <thead>\n",
       "    <tr style=\"text-align: right;\">\n",
       "      <th></th>\n",
       "      <th>Name</th>\n",
       "      <th>Term of office</th>\n",
       "    </tr>\n",
       "  </thead>\n",
       "  <tbody>\n",
       "    <tr>\n",
       "      <th>0</th>\n",
       "      <td>Shri Ram Nath Kovind</td>\n",
       "      <td>25 July, 2017 to 25 July, 2022</td>\n",
       "    </tr>\n",
       "    <tr>\n",
       "      <th>1</th>\n",
       "      <td>Shri Pranab Mukherjee</td>\n",
       "      <td>25 July, 2012 to 25 July, 2017</td>\n",
       "    </tr>\n",
       "    <tr>\n",
       "      <th>2</th>\n",
       "      <td>Smt Pratibha Devisingh Patil</td>\n",
       "      <td>25 July, 2007 to 25 July, 2012</td>\n",
       "    </tr>\n",
       "    <tr>\n",
       "      <th>3</th>\n",
       "      <td>DR. A.P.J. Abdul Kalam</td>\n",
       "      <td>25 July, 2002 to 25 July, 2007</td>\n",
       "    </tr>\n",
       "    <tr>\n",
       "      <th>4</th>\n",
       "      <td>Shri K. R. Narayanan</td>\n",
       "      <td>25 July, 1997 to 25 July, 2002</td>\n",
       "    </tr>\n",
       "    <tr>\n",
       "      <th>5</th>\n",
       "      <td>Dr Shankar Dayal Sharma</td>\n",
       "      <td>25 July, 1992 to 25 July, 1997</td>\n",
       "    </tr>\n",
       "    <tr>\n",
       "      <th>6</th>\n",
       "      <td>Shri R Venkataraman</td>\n",
       "      <td>25 July, 1987 to 25 July, 1992</td>\n",
       "    </tr>\n",
       "    <tr>\n",
       "      <th>7</th>\n",
       "      <td>Giani Zail Singh</td>\n",
       "      <td>25 July, 1982 to 25 July, 1987</td>\n",
       "    </tr>\n",
       "    <tr>\n",
       "      <th>8</th>\n",
       "      <td>Shri Neelam Sanjiva Reddy</td>\n",
       "      <td>25 July, 1977 to 25 July, 1982</td>\n",
       "    </tr>\n",
       "    <tr>\n",
       "      <th>9</th>\n",
       "      <td>Dr. Fakhruddin Ali Ahmed</td>\n",
       "      <td>24 August, 1974 to 11 February, 1977</td>\n",
       "    </tr>\n",
       "    <tr>\n",
       "      <th>10</th>\n",
       "      <td>Shri Varahagiri Venkata Giri</td>\n",
       "      <td>3 May, 1969 to 20 July, 1969 and 24 August, 19...</td>\n",
       "    </tr>\n",
       "    <tr>\n",
       "      <th>11</th>\n",
       "      <td>Dr. Zakir Husain</td>\n",
       "      <td>13 May, 1967 to 3 May, 1969</td>\n",
       "    </tr>\n",
       "    <tr>\n",
       "      <th>12</th>\n",
       "      <td>Dr. Sarvepalli Radhakrishnan</td>\n",
       "      <td>13 May, 1962 to 13 May, 1967</td>\n",
       "    </tr>\n",
       "    <tr>\n",
       "      <th>13</th>\n",
       "      <td>Dr. Rajendra Prasad</td>\n",
       "      <td>26 January, 1950 to 13 May, 1962</td>\n",
       "    </tr>\n",
       "  </tbody>\n",
       "</table>\n",
       "</div>"
      ],
      "text/plain": [
       "                            Name  \\\n",
       "0           Shri Ram Nath Kovind   \n",
       "1          Shri Pranab Mukherjee   \n",
       "2   Smt Pratibha Devisingh Patil   \n",
       "3         DR. A.P.J. Abdul Kalam   \n",
       "4           Shri K. R. Narayanan   \n",
       "5        Dr Shankar Dayal Sharma   \n",
       "6            Shri R Venkataraman   \n",
       "7               Giani Zail Singh   \n",
       "8      Shri Neelam Sanjiva Reddy   \n",
       "9       Dr. Fakhruddin Ali Ahmed   \n",
       "10  Shri Varahagiri Venkata Giri   \n",
       "11              Dr. Zakir Husain   \n",
       "12  Dr. Sarvepalli Radhakrishnan   \n",
       "13           Dr. Rajendra Prasad   \n",
       "\n",
       "                                       Term of office  \n",
       "0                      25 July, 2017 to 25 July, 2022  \n",
       "1                      25 July, 2012 to 25 July, 2017  \n",
       "2                      25 July, 2007 to 25 July, 2012  \n",
       "3                      25 July, 2002 to 25 July, 2007  \n",
       "4                      25 July, 1997 to 25 July, 2002  \n",
       "5                      25 July, 1992 to 25 July, 1997  \n",
       "6                      25 July, 1987 to 25 July, 1992  \n",
       "7                      25 July, 1982 to 25 July, 1987  \n",
       "8                      25 July, 1977 to 25 July, 1982  \n",
       "9                24 August, 1974 to 11 February, 1977  \n",
       "10  3 May, 1969 to 20 July, 1969 and 24 August, 19...  \n",
       "11                        13 May, 1967 to 3 May, 1969  \n",
       "12                       13 May, 1962 to 13 May, 1967  \n",
       "13                   26 January, 1950 to 13 May, 1962  "
      ]
     },
     "execution_count": 50,
     "metadata": {},
     "output_type": "execute_result"
    }
   ],
   "source": [
    "df=pd.DataFrame(presidents_info)\n",
    "df"
   ]
  }
 ],
 "metadata": {
  "kernelspec": {
   "display_name": "Python 3 (ipykernel)",
   "language": "python",
   "name": "python3"
  },
  "language_info": {
   "codemirror_mode": {
    "name": "ipython",
    "version": 3
   },
   "file_extension": ".py",
   "mimetype": "text/x-python",
   "name": "python",
   "nbconvert_exporter": "python",
   "pygments_lexer": "ipython3",
   "version": "3.9.7"
  }
 },
 "nbformat": 4,
 "nbformat_minor": 5
}
