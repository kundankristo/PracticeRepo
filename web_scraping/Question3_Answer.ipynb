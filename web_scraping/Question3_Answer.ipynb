{
 "cells": [
  {
   "cell_type": "code",
   "execution_count": 1,
   "id": "b44cf048",
   "metadata": {},
   "outputs": [],
   "source": [
    "#3) Write a python program to display IMDB’s Top rated 100 Indian movies’ data (i.e. name, rating, year ofrelease) and make data frame\n",
    "\n",
    "from bs4 import BeautifulSoup\n",
    "import requests\n",
    "import re\n",
    "import pandas as pd"
   ]
  },
  {
   "cell_type": "code",
   "execution_count": 2,
   "id": "6d02aef8",
   "metadata": {},
   "outputs": [],
   "source": [
    "res=requests.get('https://www.imdb.com/india/top-rated-indian-movies')\n",
    "soup=BeautifulSoup(res.text,\"html.parser\")"
   ]
  },
  {
   "cell_type": "code",
   "execution_count": 3,
   "id": "40099665",
   "metadata": {},
   "outputs": [
    {
     "name": "stdout",
     "output_type": "stream",
     "text": [
      "\n",
      "      1.\n",
      "      Rocketry: The Nambi Effect\n",
      "(2022)\n",
      "\n",
      "1 Rocketry: The Nambi Effect (2022)\n"
     ]
    }
   ],
   "source": [
    "movies=soup.select('td.titleColumn')\n",
    "#movies\n",
    "movieInfo = movies[0].get_text()\n",
    "print(movieInfo)\n",
    "movie = (' '.join(movieInfo.split()).replace('.', ''))\n",
    "print(movie)"
   ]
  },
  {
   "cell_type": "code",
   "execution_count": 4,
   "id": "59f0b01b",
   "metadata": {},
   "outputs": [],
   "source": [
    "#print(soup.select('td.posterColumn span[name=ir]'))\n",
    "ratings=[rating_span.attrs.get('data-value')for rating_span in soup.select('td.posterColumn span[name=ir]')]\n",
    "#print(ratings)"
   ]
  },
  {
   "cell_type": "code",
   "execution_count": 5,
   "id": "7ddf888c",
   "metadata": {},
   "outputs": [],
   "source": [
    "movies_details=[]\n",
    "for index in range(0,100):\n",
    "    movieInfo=movies[index].get_text()\n",
    "    arrangMovieInfo=(' '.join(movieInfo.split()).replace('.',''))\n",
    "    movieName=arrangMovieInfo[len(str(index))+1:-7]\n",
    "    yearOfRelease=re.search('\\((.*?)\\)', movieInfo).group(1)\n",
    "    movies_detail={\"Name\": movieName,\n",
    "            \"Rating\": ratings[index],\n",
    "            \"Year of release\": yearOfRelease\n",
    "            }\n",
    "    movies_details.append(movies_detail)\n",
    "#movies_details"
   ]
  },
  {
   "cell_type": "code",
   "execution_count": 6,
   "id": "7e1fa480",
   "metadata": {},
   "outputs": [
    {
     "data": {
      "text/html": [
       "<div>\n",
       "<style scoped>\n",
       "    .dataframe tbody tr th:only-of-type {\n",
       "        vertical-align: middle;\n",
       "    }\n",
       "\n",
       "    .dataframe tbody tr th {\n",
       "        vertical-align: top;\n",
       "    }\n",
       "\n",
       "    .dataframe thead th {\n",
       "        text-align: right;\n",
       "    }\n",
       "</style>\n",
       "<table border=\"1\" class=\"dataframe\">\n",
       "  <thead>\n",
       "    <tr style=\"text-align: right;\">\n",
       "      <th></th>\n",
       "      <th>Name</th>\n",
       "      <th>Rating</th>\n",
       "      <th>Year of release</th>\n",
       "    </tr>\n",
       "  </thead>\n",
       "  <tbody>\n",
       "    <tr>\n",
       "      <th>0</th>\n",
       "      <td>Rocketry: The Nambi Effect</td>\n",
       "      <td>8.532822429357127</td>\n",
       "      <td>2022</td>\n",
       "    </tr>\n",
       "    <tr>\n",
       "      <th>1</th>\n",
       "      <td>Anbe Sivam</td>\n",
       "      <td>8.398642356920783</td>\n",
       "      <td>2003</td>\n",
       "    </tr>\n",
       "    <tr>\n",
       "      <th>2</th>\n",
       "      <td>Golmaal</td>\n",
       "      <td>8.389752044630582</td>\n",
       "      <td>1979</td>\n",
       "    </tr>\n",
       "    <tr>\n",
       "      <th>3</th>\n",
       "      <td>Nayakan</td>\n",
       "      <td>8.38570090044611</td>\n",
       "      <td>1987</td>\n",
       "    </tr>\n",
       "    <tr>\n",
       "      <th>4</th>\n",
       "      <td>Jai Bhim</td>\n",
       "      <td>8.38351528850698</td>\n",
       "      <td>2021</td>\n",
       "    </tr>\n",
       "    <tr>\n",
       "      <th>...</th>\n",
       "      <td>...</td>\n",
       "      <td>...</td>\n",
       "      <td>...</td>\n",
       "    </tr>\n",
       "    <tr>\n",
       "      <th>95</th>\n",
       "      <td>Rang De Basanti</td>\n",
       "      <td>8.013547242221192</td>\n",
       "      <td>2006</td>\n",
       "    </tr>\n",
       "    <tr>\n",
       "      <th>96</th>\n",
       "      <td>Baahubali 2: The Conclusion</td>\n",
       "      <td>8.012191818766116</td>\n",
       "      <td>2017</td>\n",
       "    </tr>\n",
       "    <tr>\n",
       "      <th>97</th>\n",
       "      <td>Baasha</td>\n",
       "      <td>8.010464849449415</td>\n",
       "      <td>1995</td>\n",
       "    </tr>\n",
       "    <tr>\n",
       "      <th>98</th>\n",
       "      <td>Masaan</td>\n",
       "      <td>8.007336584139868</td>\n",
       "      <td>2015</td>\n",
       "    </tr>\n",
       "    <tr>\n",
       "      <th>99</th>\n",
       "      <td>Virumandi</td>\n",
       "      <td>8.006881154419343</td>\n",
       "      <td>2004</td>\n",
       "    </tr>\n",
       "  </tbody>\n",
       "</table>\n",
       "<p>100 rows × 3 columns</p>\n",
       "</div>"
      ],
      "text/plain": [
       "                           Name             Rating Year of release\n",
       "0    Rocketry: The Nambi Effect  8.532822429357127            2022\n",
       "1                    Anbe Sivam  8.398642356920783            2003\n",
       "2                       Golmaal  8.389752044630582            1979\n",
       "3                       Nayakan   8.38570090044611            1987\n",
       "4                      Jai Bhim   8.38351528850698            2021\n",
       "..                          ...                ...             ...\n",
       "95              Rang De Basanti  8.013547242221192            2006\n",
       "96  Baahubali 2: The Conclusion  8.012191818766116            2017\n",
       "97                       Baasha  8.010464849449415            1995\n",
       "98                       Masaan  8.007336584139868            2015\n",
       "99                    Virumandi  8.006881154419343            2004\n",
       "\n",
       "[100 rows x 3 columns]"
      ]
     },
     "execution_count": 6,
     "metadata": {},
     "output_type": "execute_result"
    }
   ],
   "source": [
    "df = pd.DataFrame(movies_details)\n",
    "df"
   ]
  },
  {
   "cell_type": "code",
   "execution_count": null,
   "id": "7cbf3ca7",
   "metadata": {},
   "outputs": [],
   "source": []
  }
 ],
 "metadata": {
  "kernelspec": {
   "display_name": "Python 3 (ipykernel)",
   "language": "python",
   "name": "python3"
  },
  "language_info": {
   "codemirror_mode": {
    "name": "ipython",
    "version": 3
   },
   "file_extension": ".py",
   "mimetype": "text/x-python",
   "name": "python",
   "nbconvert_exporter": "python",
   "pygments_lexer": "ipython3",
   "version": "3.9.7"
  }
 },
 "nbformat": 4,
 "nbformat_minor": 5
}
