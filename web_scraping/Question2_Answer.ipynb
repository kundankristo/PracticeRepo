{
 "cells": [
  {
   "cell_type": "code",
   "execution_count": 1,
   "id": "9d12d4a4",
   "metadata": {},
   "outputs": [],
   "source": [
    "#2) Write a python program to display IMDB’s Top rated 100 movies’ data (i.e. name, rating, year of release) and make data frame.\n",
    "\n",
    "from bs4 import BeautifulSoup\n",
    "import requests\n",
    "import re\n",
    "import pandas as pd\n"
   ]
  },
  {
   "cell_type": "code",
   "execution_count": 5,
   "id": "927259cf",
   "metadata": {},
   "outputs": [],
   "source": [
    "res=requests.get('http://www.imdb.com/chart/top')\n",
    "soup=BeautifulSoup(res.text,\"html.parser\")\n"
   ]
  },
  {
   "cell_type": "code",
   "execution_count": 31,
   "id": "ca8805ae",
   "metadata": {},
   "outputs": [
    {
     "name": "stdout",
     "output_type": "stream",
     "text": [
      "\n",
      "      1.\n",
      "      The Shawshank Redemption\n",
      "(1994)\n",
      "\n",
      "1 The Shawshank Redemption (1994)\n"
     ]
    }
   ],
   "source": [
    "movies=soup.select('td.titleColumn')\n",
    "#movies\n",
    "movieInfo = movies[0].get_text()\n",
    "print(movieInfo)\n",
    "movie = (' '.join(movieInfo.split()).replace('.', ''))\n",
    "print(movie)"
   ]
  },
  {
   "cell_type": "code",
   "execution_count": 25,
   "id": "b8e545d7",
   "metadata": {},
   "outputs": [],
   "source": [
    "#print(soup.select('td.posterColumn span[name=ir]'))\n",
    "ratings=[rating_span.attrs.get('data-value')for rating_span in soup.select('td.posterColumn span[name=ir]')]\n",
    "#print(ratings)"
   ]
  },
  {
   "cell_type": "code",
   "execution_count": 40,
   "id": "d540e186",
   "metadata": {},
   "outputs": [],
   "source": [
    "movies_details=[]\n",
    "for index in range(0,100):\n",
    "    movieInfo=movies[index].get_text()\n",
    "    arrangMovieInfo=(' '.join(movieInfo.split()).replace('.',''))\n",
    "    movieName=arrangMovieInfo[len(str(index))+1:-7]\n",
    "    yearOfRelease=re.search('\\((.*?)\\)', movieInfo).group(1)\n",
    "    movies_detail={\"Name\": movieName,\n",
    "            \"Rating\": ratings[index],\n",
    "            \"Year of release\": yearOfRelease\n",
    "            }\n",
    "    movies_details.append(movies_detail)\n",
    "#movies_details"
   ]
  },
  {
   "cell_type": "code",
   "execution_count": 41,
   "id": "03269950",
   "metadata": {},
   "outputs": [
    {
     "data": {
      "text/html": [
       "<div>\n",
       "<style scoped>\n",
       "    .dataframe tbody tr th:only-of-type {\n",
       "        vertical-align: middle;\n",
       "    }\n",
       "\n",
       "    .dataframe tbody tr th {\n",
       "        vertical-align: top;\n",
       "    }\n",
       "\n",
       "    .dataframe thead th {\n",
       "        text-align: right;\n",
       "    }\n",
       "</style>\n",
       "<table border=\"1\" class=\"dataframe\">\n",
       "  <thead>\n",
       "    <tr style=\"text-align: right;\">\n",
       "      <th></th>\n",
       "      <th>Name</th>\n",
       "      <th>Rating</th>\n",
       "      <th>Year of release</th>\n",
       "    </tr>\n",
       "  </thead>\n",
       "  <tbody>\n",
       "    <tr>\n",
       "      <th>0</th>\n",
       "      <td>The Shawshank Redemption</td>\n",
       "      <td>9.234678588641325</td>\n",
       "      <td>1994</td>\n",
       "    </tr>\n",
       "    <tr>\n",
       "      <th>1</th>\n",
       "      <td>The Godfather</td>\n",
       "      <td>9.15655176471247</td>\n",
       "      <td>1972</td>\n",
       "    </tr>\n",
       "    <tr>\n",
       "      <th>2</th>\n",
       "      <td>The Dark Knight</td>\n",
       "      <td>8.987405113152922</td>\n",
       "      <td>2008</td>\n",
       "    </tr>\n",
       "    <tr>\n",
       "      <th>3</th>\n",
       "      <td>The Godfather Part II</td>\n",
       "      <td>8.984559290985729</td>\n",
       "      <td>1974</td>\n",
       "    </tr>\n",
       "    <tr>\n",
       "      <th>4</th>\n",
       "      <td>12 Angry Men</td>\n",
       "      <td>8.949240085637063</td>\n",
       "      <td>1957</td>\n",
       "    </tr>\n",
       "    <tr>\n",
       "      <th>...</th>\n",
       "      <td>...</td>\n",
       "      <td>...</td>\n",
       "      <td>...</td>\n",
       "    </tr>\n",
       "    <tr>\n",
       "      <th>95</th>\n",
       "      <td>Jagten</td>\n",
       "      <td>8.255932305358366</td>\n",
       "      <td>2012</td>\n",
       "    </tr>\n",
       "    <tr>\n",
       "      <th>96</th>\n",
       "      <td>M - Eine Stadt sucht einen Mörder</td>\n",
       "      <td>8.254328815193015</td>\n",
       "      <td>1931</td>\n",
       "    </tr>\n",
       "    <tr>\n",
       "      <th>97</th>\n",
       "      <td>North by Northwest</td>\n",
       "      <td>8.252185731406096</td>\n",
       "      <td>1959</td>\n",
       "    </tr>\n",
       "    <tr>\n",
       "      <th>98</th>\n",
       "      <td>Idi i smotri</td>\n",
       "      <td>8.247252037199656</td>\n",
       "      <td>1985</td>\n",
       "    </tr>\n",
       "    <tr>\n",
       "      <th>99</th>\n",
       "      <td>Vertigo</td>\n",
       "      <td>8.246800170965205</td>\n",
       "      <td>1958</td>\n",
       "    </tr>\n",
       "  </tbody>\n",
       "</table>\n",
       "<p>100 rows × 3 columns</p>\n",
       "</div>"
      ],
      "text/plain": [
       "                                 Name             Rating Year of release\n",
       "0            The Shawshank Redemption  9.234678588641325            1994\n",
       "1                       The Godfather   9.15655176471247            1972\n",
       "2                     The Dark Knight  8.987405113152922            2008\n",
       "3               The Godfather Part II  8.984559290985729            1974\n",
       "4                        12 Angry Men  8.949240085637063            1957\n",
       "..                                ...                ...             ...\n",
       "95                             Jagten  8.255932305358366            2012\n",
       "96  M - Eine Stadt sucht einen Mörder  8.254328815193015            1931\n",
       "97                 North by Northwest  8.252185731406096            1959\n",
       "98                       Idi i smotri  8.247252037199656            1985\n",
       "99                            Vertigo  8.246800170965205            1958\n",
       "\n",
       "[100 rows x 3 columns]"
      ]
     },
     "execution_count": 41,
     "metadata": {},
     "output_type": "execute_result"
    }
   ],
   "source": [
    "df = pd.DataFrame(movies_details)\n",
    "df"
   ]
  }
 ],
 "metadata": {
  "kernelspec": {
   "display_name": "Python 3 (ipykernel)",
   "language": "python",
   "name": "python3"
  },
  "language_info": {
   "codemirror_mode": {
    "name": "ipython",
    "version": 3
   },
   "file_extension": ".py",
   "mimetype": "text/x-python",
   "name": "python",
   "nbconvert_exporter": "python",
   "pygments_lexer": "ipython3",
   "version": "3.9.7"
  }
 },
 "nbformat": 4,
 "nbformat_minor": 5
}
